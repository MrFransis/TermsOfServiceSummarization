{
 "cells": [
  {
   "cell_type": "markdown",
   "id": "4bc27fd5",
   "metadata": {},
   "source": [
    "# Fine Tuning"
   ]
  },
  {
   "cell_type": "code",
   "execution_count": 1,
   "id": "b21a2054",
   "metadata": {},
   "outputs": [
    {
     "name": "stdout",
     "output_type": "stream",
     "text": [
      "Requirement already satisfied: datasets in c:\\users\\edoardo\\appdata\\local\\programs\\python\\python310\\lib\\site-packages (2.4.0)\n",
      "Requirement already satisfied: xxhash in c:\\users\\edoardo\\appdata\\local\\programs\\python\\python310\\lib\\site-packages (from datasets) (3.0.0)\n",
      "Requirement already satisfied: aiohttp in c:\\users\\edoardo\\appdata\\local\\programs\\python\\python310\\lib\\site-packages (from datasets) (3.8.1)\n",
      "Requirement already satisfied: numpy>=1.17 in c:\\users\\edoardo\\appdata\\local\\programs\\python\\python310\\lib\\site-packages (from datasets) (1.22.1)\n",
      "Requirement already satisfied: pyarrow>=6.0.0 in c:\\users\\edoardo\\appdata\\local\\programs\\python\\python310\\lib\\site-packages (from datasets) (8.0.0)\n",
      "Requirement already satisfied: pandas in c:\\users\\edoardo\\appdata\\local\\programs\\python\\python310\\lib\\site-packages (from datasets) (1.3.5)\n",
      "Requirement already satisfied: multiprocess in c:\\users\\edoardo\\appdata\\local\\programs\\python\\python310\\lib\\site-packages (from datasets) (0.70.13)\n",
      "Requirement already satisfied: huggingface-hub<1.0.0,>=0.1.0 in c:\\users\\edoardo\\appdata\\local\\programs\\python\\python310\\lib\\site-packages (from datasets) (0.8.1)\n",
      "Requirement already satisfied: responses<0.19 in c:\\users\\edoardo\\appdata\\local\\programs\\python\\python310\\lib\\site-packages (from datasets) (0.18.0)\n",
      "Requirement already satisfied: packaging in c:\\users\\edoardo\\appdata\\local\\programs\\python\\python310\\lib\\site-packages (from datasets) (21.3)\n",
      "Requirement already satisfied: tqdm>=4.62.1 in c:\\users\\edoardo\\appdata\\local\\programs\\python\\python310\\lib\\site-packages (from datasets) (4.62.3)\n",
      "Requirement already satisfied: fsspec[http]>=2021.11.1 in c:\\users\\edoardo\\appdata\\local\\programs\\python\\python310\\lib\\site-packages (from datasets) (2022.7.1)\n",
      "Requirement already satisfied: dill<0.3.6 in c:\\users\\edoardo\\appdata\\local\\programs\\python\\python310\\lib\\site-packages (from datasets) (0.3.5.1)\n",
      "Requirement already satisfied: requests>=2.19.0 in c:\\users\\edoardo\\appdata\\local\\programs\\python\\python310\\lib\\site-packages (from datasets) (2.27.1)\n",
      "Requirement already satisfied: pyyaml>=5.1 in c:\\users\\edoardo\\appdata\\local\\programs\\python\\python310\\lib\\site-packages (from huggingface-hub<1.0.0,>=0.1.0->datasets) (6.0)\n",
      "Requirement already satisfied: typing-extensions>=3.7.4.3 in c:\\users\\edoardo\\appdata\\local\\programs\\python\\python310\\lib\\site-packages (from huggingface-hub<1.0.0,>=0.1.0->datasets) (4.0.1)\n",
      "Requirement already satisfied: filelock in c:\\users\\edoardo\\appdata\\local\\programs\\python\\python310\\lib\\site-packages (from huggingface-hub<1.0.0,>=0.1.0->datasets) (3.4.2)\n",
      "Requirement already satisfied: pyparsing!=3.0.5,>=2.0.2 in c:\\users\\edoardo\\appdata\\local\\programs\\python\\python310\\lib\\site-packages (from packaging->datasets) (3.0.6)\n",
      "Requirement already satisfied: charset-normalizer~=2.0.0 in c:\\users\\edoardo\\appdata\\local\\programs\\python\\python310\\lib\\site-packages (from requests>=2.19.0->datasets) (2.0.8)\n",
      "Requirement already satisfied: urllib3<1.27,>=1.21.1 in c:\\users\\edoardo\\appdata\\local\\programs\\python\\python310\\lib\\site-packages (from requests>=2.19.0->datasets) (1.26.7)\n",
      "Requirement already satisfied: idna<4,>=2.5 in c:\\users\\edoardo\\appdata\\local\\programs\\python\\python310\\lib\\site-packages (from requests>=2.19.0->datasets) (3.3)\n",
      "Requirement already satisfied: certifi>=2017.4.17 in c:\\users\\edoardo\\appdata\\local\\programs\\python\\python310\\lib\\site-packages (from requests>=2.19.0->datasets) (2021.10.8)\n",
      "Requirement already satisfied: colorama in c:\\users\\edoardo\\appdata\\local\\programs\\python\\python310\\lib\\site-packages (from tqdm>=4.62.1->datasets) (0.4.4)\n",
      "Requirement already satisfied: attrs>=17.3.0 in c:\\users\\edoardo\\appdata\\local\\programs\\python\\python310\\lib\\site-packages (from aiohttp->datasets) (21.2.0)\n",
      "Requirement already satisfied: multidict<7.0,>=4.5 in c:\\users\\edoardo\\appdata\\local\\programs\\python\\python310\\lib\\site-packages (from aiohttp->datasets) (5.2.0)\n",
      "Requirement already satisfied: frozenlist>=1.1.1 in c:\\users\\edoardo\\appdata\\local\\programs\\python\\python310\\lib\\site-packages (from aiohttp->datasets) (1.2.0)\n",
      "Requirement already satisfied: aiosignal>=1.1.2 in c:\\users\\edoardo\\appdata\\local\\programs\\python\\python310\\lib\\site-packages (from aiohttp->datasets) (1.2.0)\n",
      "Requirement already satisfied: async-timeout<5.0,>=4.0.0a3 in c:\\users\\edoardo\\appdata\\local\\programs\\python\\python310\\lib\\site-packages (from aiohttp->datasets) (4.0.1)\n",
      "Requirement already satisfied: yarl<2.0,>=1.0 in c:\\users\\edoardo\\appdata\\local\\programs\\python\\python310\\lib\\site-packages (from aiohttp->datasets) (1.7.2)\n",
      "Requirement already satisfied: python-dateutil>=2.7.3 in c:\\users\\edoardo\\appdata\\local\\programs\\python\\python310\\lib\\site-packages (from pandas->datasets) (2.8.2)\n",
      "Requirement already satisfied: pytz>=2017.3 in c:\\users\\edoardo\\appdata\\local\\programs\\python\\python310\\lib\\site-packages (from pandas->datasets) (2021.3)\n",
      "Requirement already satisfied: six>=1.5 in c:\\users\\edoardo\\appdata\\local\\programs\\python\\python310\\lib\\site-packages (from python-dateutil>=2.7.3->pandas->datasets) (1.16.0)\n"
     ]
    },
    {
     "name": "stderr",
     "output_type": "stream",
     "text": [
      "\n",
      "[notice] A new release of pip available: 22.2.1 -> 22.2.2\n",
      "[notice] To update, run: python.exe -m pip install --upgrade pip\n"
     ]
    },
    {
     "name": "stdout",
     "output_type": "stream",
     "text": [
      "Collecting sacrebleu\n",
      "  Downloading sacrebleu-2.2.0-py3-none-any.whl (116 kB)\n",
      "     -------------------------------------- 116.6/116.6 kB 2.3 MB/s eta 0:00:00\n",
      "Collecting portalocker\n",
      "  Downloading portalocker-2.5.1-py2.py3-none-any.whl (15 kB)\n",
      "Collecting tabulate>=0.8.9\n",
      "  Downloading tabulate-0.8.10-py3-none-any.whl (29 kB)\n",
      "Requirement already satisfied: numpy>=1.17 in c:\\users\\edoardo\\appdata\\local\\programs\\python\\python310\\lib\\site-packages (from sacrebleu) (1.22.1)\n",
      "Requirement already satisfied: lxml in c:\\users\\edoardo\\appdata\\local\\programs\\python\\python310\\lib\\site-packages (from sacrebleu) (4.6.4)\n",
      "Requirement already satisfied: regex in c:\\users\\edoardo\\appdata\\local\\programs\\python\\python310\\lib\\site-packages (from sacrebleu) (2021.11.10)\n",
      "Requirement already satisfied: colorama in c:\\users\\edoardo\\appdata\\local\\programs\\python\\python310\\lib\\site-packages (from sacrebleu) (0.4.4)\n",
      "Requirement already satisfied: pywin32>=226 in c:\\users\\edoardo\\appdata\\local\\programs\\python\\python310\\lib\\site-packages (from portalocker->sacrebleu) (302)\n",
      "Installing collected packages: tabulate, portalocker, sacrebleu\n",
      "Successfully installed portalocker-2.5.1 sacrebleu-2.2.0 tabulate-0.8.10\n"
     ]
    },
    {
     "name": "stderr",
     "output_type": "stream",
     "text": [
      "\n",
      "[notice] A new release of pip available: 22.2.1 -> 22.2.2\n",
      "[notice] To update, run: python.exe -m pip install --upgrade pip\n"
     ]
    },
    {
     "name": "stdout",
     "output_type": "stream",
     "text": [
      "Collecting rouge_score\n",
      "  Downloading rouge_score-0.1.2.tar.gz (17 kB)\n",
      "  Preparing metadata (setup.py): started\n",
      "  Preparing metadata (setup.py): finished with status 'done'\n",
      "Collecting absl-py\n",
      "  Using cached absl_py-1.2.0-py3-none-any.whl (123 kB)\n",
      "Requirement already satisfied: nltk in c:\\users\\edoardo\\appdata\\local\\programs\\python\\python310\\lib\\site-packages (from rouge_score) (3.6.5)\n",
      "Requirement already satisfied: numpy in c:\\users\\edoardo\\appdata\\local\\programs\\python\\python310\\lib\\site-packages (from rouge_score) (1.22.1)\n",
      "Requirement already satisfied: six>=1.14.0 in c:\\users\\edoardo\\appdata\\local\\programs\\python\\python310\\lib\\site-packages (from rouge_score) (1.16.0)\n",
      "Requirement already satisfied: regex>=2021.8.3 in c:\\users\\edoardo\\appdata\\local\\programs\\python\\python310\\lib\\site-packages (from nltk->rouge_score) (2021.11.10)\n",
      "Requirement already satisfied: joblib in c:\\users\\edoardo\\appdata\\local\\programs\\python\\python310\\lib\\site-packages (from nltk->rouge_score) (1.1.0)\n",
      "Requirement already satisfied: tqdm in c:\\users\\edoardo\\appdata\\local\\programs\\python\\python310\\lib\\site-packages (from nltk->rouge_score) (4.62.3)\n",
      "Requirement already satisfied: click in c:\\users\\edoardo\\appdata\\local\\programs\\python\\python310\\lib\\site-packages (from nltk->rouge_score) (8.0.3)\n",
      "Requirement already satisfied: colorama in c:\\users\\edoardo\\appdata\\local\\programs\\python\\python310\\lib\\site-packages (from click->nltk->rouge_score) (0.4.4)\n",
      "Using legacy 'setup.py install' for rouge_score, since package 'wheel' is not installed.\n",
      "Installing collected packages: absl-py, rouge_score\n",
      "  Running setup.py install for rouge_score: started\n",
      "  Running setup.py install for rouge_score: finished with status 'done'\n",
      "Successfully installed absl-py-1.2.0 rouge_score-0.1.2\n"
     ]
    },
    {
     "name": "stderr",
     "output_type": "stream",
     "text": [
      "\n",
      "[notice] A new release of pip available: 22.2.1 -> 22.2.2\n",
      "[notice] To update, run: python.exe -m pip install --upgrade pip\n"
     ]
    },
    {
     "name": "stdout",
     "output_type": "stream",
     "text": [
      "Requirement already satisfied: transformers in c:\\users\\edoardo\\appdata\\local\\programs\\python\\python310\\lib\\site-packages (4.21.0)\n",
      "Requirement already satisfied: regex!=2019.12.17 in c:\\users\\edoardo\\appdata\\local\\programs\\python\\python310\\lib\\site-packages (from transformers) (2021.11.10)\n",
      "Requirement already satisfied: packaging>=20.0 in c:\\users\\edoardo\\appdata\\local\\programs\\python\\python310\\lib\\site-packages (from transformers) (21.3)\n",
      "Requirement already satisfied: pyyaml>=5.1 in c:\\users\\edoardo\\appdata\\local\\programs\\python\\python310\\lib\\site-packages (from transformers) (6.0)\n",
      "Requirement already satisfied: tokenizers!=0.11.3,<0.13,>=0.11.1 in c:\\users\\edoardo\\appdata\\local\\programs\\python\\python310\\lib\\site-packages (from transformers) (0.12.1)\n",
      "Requirement already satisfied: numpy>=1.17 in c:\\users\\edoardo\\appdata\\local\\programs\\python\\python310\\lib\\site-packages (from transformers) (1.22.1)\n",
      "Requirement already satisfied: requests in c:\\users\\edoardo\\appdata\\local\\programs\\python\\python310\\lib\\site-packages (from transformers) (2.27.1)\n",
      "Requirement already satisfied: tqdm>=4.27 in c:\\users\\edoardo\\appdata\\local\\programs\\python\\python310\\lib\\site-packages (from transformers) (4.62.3)\n",
      "Requirement already satisfied: huggingface-hub<1.0,>=0.1.0 in c:\\users\\edoardo\\appdata\\local\\programs\\python\\python310\\lib\\site-packages (from transformers) (0.8.1)\n",
      "Requirement already satisfied: filelock in c:\\users\\edoardo\\appdata\\local\\programs\\python\\python310\\lib\\site-packages (from transformers) (3.4.2)\n",
      "Requirement already satisfied: typing-extensions>=3.7.4.3 in c:\\users\\edoardo\\appdata\\local\\programs\\python\\python310\\lib\\site-packages (from huggingface-hub<1.0,>=0.1.0->transformers) (4.0.1)\n",
      "Requirement already satisfied: pyparsing!=3.0.5,>=2.0.2 in c:\\users\\edoardo\\appdata\\local\\programs\\python\\python310\\lib\\site-packages (from packaging>=20.0->transformers) (3.0.6)\n",
      "Requirement already satisfied: colorama in c:\\users\\edoardo\\appdata\\local\\programs\\python\\python310\\lib\\site-packages (from tqdm>=4.27->transformers) (0.4.4)\n",
      "Requirement already satisfied: idna<4,>=2.5 in c:\\users\\edoardo\\appdata\\local\\programs\\python\\python310\\lib\\site-packages (from requests->transformers) (3.3)\n",
      "Requirement already satisfied: urllib3<1.27,>=1.21.1 in c:\\users\\edoardo\\appdata\\local\\programs\\python\\python310\\lib\\site-packages (from requests->transformers) (1.26.7)\n",
      "Requirement already satisfied: charset-normalizer~=2.0.0 in c:\\users\\edoardo\\appdata\\local\\programs\\python\\python310\\lib\\site-packages (from requests->transformers) (2.0.8)\n",
      "Requirement already satisfied: certifi>=2017.4.17 in c:\\users\\edoardo\\appdata\\local\\programs\\python\\python310\\lib\\site-packages (from requests->transformers) (2021.10.8)\n"
     ]
    },
    {
     "name": "stderr",
     "output_type": "stream",
     "text": [
      "\n",
      "[notice] A new release of pip available: 22.2.1 -> 22.2.2\n",
      "[notice] To update, run: python.exe -m pip install --upgrade pip\n"
     ]
    }
   ],
   "source": [
    "!pip install datasets\n",
    "!pip install sacrebleu\n",
    "!pip install rouge_score\n",
    "!pip install transformers"
   ]
  },
  {
   "cell_type": "markdown",
   "id": "20bdca9d",
   "metadata": {},
   "source": [
    "## Evaluation metrics"
   ]
  },
  {
   "cell_type": "code",
   "execution_count": 2,
   "id": "c6ba3e82",
   "metadata": {},
   "outputs": [],
   "source": [
    "from tqdm import tqdm\n",
    "import torch\n",
    "from transformers import AutoModelForSeq2SeqLM, AutoTokenizer\n",
    "from datasets import load_metric\n",
    "from datasets import load_dataset\n",
    "import pandas as pd\n",
    "from transformers import TrainingArguments, Trainer\n",
    "from transformers import DataCollatorForSeq2Seq\n",
    "import pandas as pd\n",
    "\n",
    "bleu_metric = load_metric(\"sacrebleu\")\n",
    "rouge_metric = load_metric(\"rouge\")\n",
    "rouge_names = [\"rouge1\", \"rouge2\", \"rougeL\", \"rougeLsum\"]\n"
   ]
  },
  {
   "cell_type": "markdown",
   "id": "bc6cd3e4",
   "metadata": {},
   "source": [
    "## dataset"
   ]
  },
  {
   "cell_type": "code",
   "execution_count": 4,
   "id": "5306aeda",
   "metadata": {},
   "outputs": [
    {
     "name": "stderr",
     "output_type": "stream",
     "text": [
      "Using custom data configuration default-107e4662bcecbc2a\n"
     ]
    },
    {
     "name": "stdout",
     "output_type": "stream",
     "text": [
      "Downloading and preparing dataset json/default to C:\\Users\\Edoardo\\.cache\\huggingface\\datasets\\json\\default-107e4662bcecbc2a\\0.0.0\\a3e658c4731e59120d44081ac10bf85dc7e1388126b92338344ce9661907f253...\n"
     ]
    },
    {
     "data": {
      "application/vnd.jupyter.widget-view+json": {
       "model_id": "a98bf7200f434bb88deec7ff56e0ba0e",
       "version_major": 2,
       "version_minor": 0
      },
      "text/plain": [
       "Downloading data files:   0%|          | 0/3 [00:00<?, ?it/s]"
      ]
     },
     "metadata": {},
     "output_type": "display_data"
    },
    {
     "data": {
      "application/vnd.jupyter.widget-view+json": {
       "model_id": "d584ff06168249cabc02715f348d3859",
       "version_major": 2,
       "version_minor": 0
      },
      "text/plain": [
       "Extracting data files:   0%|          | 0/3 [00:00<?, ?it/s]"
      ]
     },
     "metadata": {},
     "output_type": "display_data"
    },
    {
     "data": {
      "application/vnd.jupyter.widget-view+json": {
       "model_id": "",
       "version_major": 2,
       "version_minor": 0
      },
      "text/plain": [
       "0 tables [00:00, ? tables/s]"
      ]
     },
     "metadata": {},
     "output_type": "display_data"
    },
    {
     "data": {
      "application/vnd.jupyter.widget-view+json": {
       "model_id": "",
       "version_major": 2,
       "version_minor": 0
      },
      "text/plain": [
       "0 tables [00:00, ? tables/s]"
      ]
     },
     "metadata": {},
     "output_type": "display_data"
    },
    {
     "data": {
      "application/vnd.jupyter.widget-view+json": {
       "model_id": "",
       "version_major": 2,
       "version_minor": 0
      },
      "text/plain": [
       "0 tables [00:00, ? tables/s]"
      ]
     },
     "metadata": {},
     "output_type": "display_data"
    },
    {
     "name": "stdout",
     "output_type": "stream",
     "text": [
      "Dataset json downloaded and prepared to C:\\Users\\Edoardo\\.cache\\huggingface\\datasets\\json\\default-107e4662bcecbc2a\\0.0.0\\a3e658c4731e59120d44081ac10bf85dc7e1388126b92338344ce9661907f253. Subsequent calls will reuse this data.\n"
     ]
    },
    {
     "data": {
      "application/vnd.jupyter.widget-view+json": {
       "model_id": "d24d0ac7dffd4234aa94faaf16583c2e",
       "version_major": 2,
       "version_minor": 0
      },
      "text/plain": [
       "  0%|          | 0/3 [00:00<?, ?it/s]"
      ]
     },
     "metadata": {},
     "output_type": "display_data"
    },
    {
     "name": "stdout",
     "output_type": "stream",
     "text": [
      "Split lengths: [540, 270, 90]\n",
      "Features: ['plain_text', 'summary']\n",
      "\\Plain_text:\n",
      "The Service is only available to individuals aged 13 years or older Apple reserves the right at any time to modify this Agreement and to impose new or additional terms or conditions on your use of the Service, provided that Apple will give you 30 days’ advance notice of any material adverse change to the Service or applicable terms of service, unless it would not be reasonable to do so due to circumstances arising from legal, regulatory, or governmental action. Apple and its partners and licensors must collect, use, transmit, process and maintain your location data, including but not limited to the geographic location of your device and information related to your iCloud account (“Account”) and any devices registered thereunder, including but not limited to your Apple ID, device ID and name, and device type You may withdraw consent to Apple and its partners’ and licensors’ collection, use, transmission, processing and maintenance of location and Account data at any time by not using the location-based features and turning off Find My (including the predecessor apps Find My iPhone and Find My Friends, collectively referred to as “Find My”), or Location Services in Settings (as applicable) on your device. J. Two-Factor Authentication and Autodialed Calls/Texts.&nbsp;If you choose to enable Two-Factor Authentication for your Apple ID, you consent to (a) provide Apple at least one telephone number. and (b) receive autodialed or prerecorded calls and text messages from Apple at any of the telephone numbers provided.&nbsp;We may place such calls or texts to (i) help keep your Account secure when signing in. (ii) help you access your Account when you’ve forgotten your password. or (iii) as otherwise necessary to service your Account or enforce this Agreement, our policies, applicable law, or any other agreement we may have with you.  You acknowledge and agree that Apple may, without liability to you, access, use, preserve and/or disclose your Account information and Content to law enforcement authorities, government officials, and/or a third party, as Apple believes is reasonably necessary or appropriate Except for material we may license to you, Apple does not claim ownership of the materials and/or Content you submit or make available on the Service. You may delete your Apple ID and/or stop using the Service at any time. Apple will be permitted to terminate only after giving you 30 days’ notice and only if you have not cured the breach within such 30-day period. this Agreement and the relationship between you and Apple shall be governed by the laws of the State of California The failure of Apple to exercise or enforce any right or provision of this Agreement shall not constitute a waiver of such right or provision. Last revised: September 19, 2017 Last revised: September 19, 2019 \n",
      "\n",
      "Summary:\n",
      "This service is only available to users of a certain age. When the service wants to change its terms, users are notified a month or more in advance. This service may collect, use, and share location data. You can request access and deletion of personal data. The service provides two factor authentification for your account. The service can delete specific content without prior notice and without a reason. Your private content may be accessed by people working for the service. You maintain ownership of your data. You have the right to leave this service at any time. The service gives 30 days of notice before closing your account. The court of law governing the terms is in location X. Failure to enforce any provision of the Terms of Service does not constitute a waiver of such provision. There is a date of the last update of the terms. There is a date of the last update of the agreements. \n"
     ]
    }
   ],
   "source": [
    "dataset = load_dataset(\"json\", data_files={'train':'content/train.json', 'test': 'content/test.json', 'validation':'content/validate.json'})\n",
    "split_lengths = [len(dataset[split])for split in dataset]\n",
    "\n",
    "print(f\"Split lengths: {split_lengths}\")\n",
    "print(f\"Features: {dataset['train'].column_names}\")\n",
    "print(\"\\Plain_text:\")\n",
    "print(dataset[\"test\"][0][\"plain_text\"])\n",
    "print(\"\\nSummary:\")\n",
    "print(dataset[\"test\"][0][\"summary\"])"
   ]
  },
  {
   "cell_type": "code",
   "execution_count": 7,
   "id": "1e9e2c6e",
   "metadata": {},
   "outputs": [
    {
     "data": {
      "text/plain": [
       "<AxesSubplot:>"
      ]
     },
     "execution_count": 7,
     "metadata": {},
     "output_type": "execute_result"
    },
    {
     "data": {
      "image/png": "[encoded data removed]",
      "text/plain": [
       "<Figure size 640x480 with 1 Axes>"
      ]
     },
     "metadata": {},
     "output_type": "display_data"
    }
   ],
   "source": [
    "dataset.set_format(type=\"pandas\")\n",
    "df = dataset[\"train\"][:]\n",
    "\n",
    "df[\"WordsCount\"] = df[\"plain_text\"].str.split().apply(len)\n",
    "df[\"SummaryCount\"] = df[\"summary\"].str.split().apply(len)\n",
    "df.boxplot(\"WordsCount\", grid=False, showfliers=False, color=\"black\")\n"
   ]
  },
  {
   "cell_type": "code",
   "execution_count": 8,
   "id": "2c682775",
   "metadata": {},
   "outputs": [
    {
     "data": {
      "text/plain": [
       "<AxesSubplot:>"
      ]
     },
     "execution_count": 8,
     "metadata": {},
     "output_type": "execute_result"
    },
    {
     "data": {
      "image/png": "[encoded data removed]",
      "text/plain": [
       "<Figure size 640x480 with 1 Axes>"
      ]
     },
     "metadata": {},
     "output_type": "display_data"
    }
   ],
   "source": [
    "df.boxplot(\"SummaryCount\", grid=False, showfliers=False, color=\"black\")\n"
   ]
  },
  {
   "cell_type": "code",
   "execution_count": null,
   "id": "06b5fe20",
   "metadata": {},
   "outputs": [],
   "source": [
    "#Select the hardware to use\n",
    "device = \"cuda\" if torch.cuda.is_available() else \"cpu\""
   ]
  },
  {
   "cell_type": "markdown",
   "id": "a9d85209",
   "metadata": {},
   "source": [
    "## Model selection"
   ]
  },
  {
   "cell_type": "code",
   "execution_count": null,
   "id": "5d6eb22f",
   "metadata": {},
   "outputs": [],
   "source": [
    "#Model selection\n",
    "\n",
    "model_ckpt = 'facebook/bart-large-cnn'\n",
    "#model_ckpt = 't5-base'\n",
    "#model_ckpt = 'google/pegasus-cnn_dailymail' #test also XSUM\n",
    "tokenizer = AutoTokenizer.from_pretrained(model_ckpt)\n",
    "\n",
    "model = AutoModelForSeq2SeqLM.from_pretrained(model_ckpt).to(device)"
   ]
  },
  {
   "cell_type": "markdown",
   "id": "079bdae7",
   "metadata": {},
   "source": [
    "# "
   ]
  },
  {
   "cell_type": "code",
   "execution_count": null,
   "id": "0b43f722",
   "metadata": {},
   "outputs": [],
   "source": [
    "def chunks(list_of_elements, batch_size):\n",
    "    \"\"\"Yield successive batch-sized chunks from list_of_elements.\"\"\"\n",
    "    for i in range(0, len(list_of_elements), batch_size):\n",
    "        yield list_of_elements[i : i + batch_size]"
   ]
  },
  {
   "cell_type": "code",
   "execution_count": null,
   "id": "ba1a5e8f",
   "metadata": {},
   "outputs": [],
   "source": [
    "def evaluate_summaries(dataset, metric, model, tokenizer, batch_size=1, device=device, column_text=\"plain_text\", column_summary=\"summary\"):\n",
    "    tos_batches = list(chunks(dataset[column_text], batch_size))\n",
    "    target_batches = list(chunks(dataset[column_summary], batch_size))\n",
    "    for tos_batch, target_batch in tqdm(\n",
    "        zip(tos_batches, target_batches), total=len(tos_batches)):\n",
    "        inputs = tokenizer(tos_batch, max_length=2048, truncation=True, padding=\"max_length\", return_tensors=\"pt\")\n",
    "        summaries = model.generate(input_ids=inputs[\"input_ids\"].to(device),\n",
    "                        attention_mask=inputs[\"attention_mask\"].to(device),\n",
    "                         length_penalty=0.8, num_beams=8, max_length=512)\n",
    "        decoded_summaries = [tokenizer.decode(s, skip_special_tokens=True,\n",
    "                 clean_up_tokenization_spaces=True) for s in summaries]\n",
    "        decoded_summaries = [d.replace(\"<n>\", \" \") for d in decoded_summaries]\n",
    "        metric.add_batch(predictions=decoded_summaries, references=target_batch)\n",
    "    \n",
    "    score = metric.compute()\n",
    "    return score"
   ]
  },
  {
   "cell_type": "markdown",
   "id": "3e058283",
   "metadata": {},
   "source": [
    "## Tokenization"
   ]
  },
  {
   "cell_type": "code",
   "execution_count": null,
   "id": "57bcfa2c",
   "metadata": {},
   "outputs": [],
   "source": [
    "def convert_examples_to_features(example_batch):\n",
    "    input_encodings = tokenizer(example_batch[\"plain_text\"], max_length=2048, truncation=True)\n",
    "    with tokenizer.as_target_tokenizer():\n",
    "        target_encodings = tokenizer(example_batch[\"summary\"], max_length=512, truncation=True)\n",
    "    return {\"input_ids\": input_encodings[\"input_ids\"], \"attention_mask\": input_encodings[\"attention_mask\"], \n",
    "            \"labels\": target_encodings[\"input_ids\"]}\n",
    "\n",
    "\n",
    "dataset_tos = dataset.map(convert_examples_to_features, batched=True)\n",
    "columns = [\"input_ids\", \"labels\", \"attention_mask\"]\n",
    "dataset_tos.set_format(type=\"torch\", columns=columns)"
   ]
  },
  {
   "cell_type": "markdown",
   "id": "04a24967",
   "metadata": {},
   "source": [
    "## Training"
   ]
  },
  {
   "cell_type": "code",
   "execution_count": null,
   "id": "b8435ef2",
   "metadata": {},
   "outputs": [],
   "source": [
    "seq2seq_data_collator = DataCollatorForSeq2Seq(tokenizer, model=model)\n",
    "\n",
    "training_args = TrainingArguments(\n",
    " output_dir='training_log', num_train_epochs=1, warmup_steps=500,\n",
    " per_device_train_batch_size=1, per_device_eval_batch_size=1,\n",
    " weight_decay=0.01, logging_steps=10, push_to_hub=False,\n",
    " evaluation_strategy='steps', eval_steps=500, save_steps=1e6,\n",
    " gradient_accumulation_steps=16)\n",
    "\n",
    "trainer = Trainer(model=model, args=training_args,\n",
    " tokenizer=tokenizer, data_collator=seq2seq_data_collator,\n",
    " train_dataset=dataset_tos[\"train\"],\n",
    " eval_dataset=dataset_tos[\"validation\"])\n",
    "\n",
    "trainer.train()"
   ]
  },
  {
   "cell_type": "code",
   "execution_count": null,
   "id": "497e6223",
   "metadata": {},
   "outputs": [],
   "source": [
    "model.save_pretrained(f\"content/{model_ckpt}\")"
   ]
  },
  {
   "cell_type": "markdown",
   "id": "92dad9d7",
   "metadata": {},
   "source": [
    "## Evaluation"
   ]
  },
  {
   "cell_type": "code",
   "execution_count": null,
   "id": "ba438a5c",
   "metadata": {},
   "outputs": [],
   "source": [
    "from transformers import pipeline\n",
    "import nltk\n",
    "from nltk.tokenize import sent_tokenize\n",
    "from datasets import load_dataset\n",
    "\n",
    "nltk.download('punkt')"
   ]
  },
  {
   "cell_type": "code",
   "execution_count": null,
   "id": "55d61fc4",
   "metadata": {},
   "outputs": [],
   "source": [
    "score_rouge = evaluate_summaries(\n",
    "    dataset[\"test\"], rouge_metric, trainer.model, tokenizer,\n",
    "    batch_size=1, column_text=\"plain_text\", column_summary=\"summary\")\n",
    "rouge_dict = dict((rn, score_rouge[rn].mid.fmeasure) for rn in rouge_names)\n",
    "pd.DataFrame(rouge_dict, index=[f\"{model_ckpt}\"])\n"
   ]
  },
  {
   "cell_type": "code",
   "execution_count": null,
   "id": "38e63d46",
   "metadata": {},
   "outputs": [],
   "source": [
    "score_bleu = evaluate_summaries(\n",
    "    dataset[\"test\"], bleu_metric, trainer.model, tokenizer,\n",
    "    batch_size=1, column_text=\"plain_text\", column_summary=\"summary\")\n",
    "rouge_dict = dict((rn, score_bleu[rn].mid.fmeasure) for rn in [\"bleu\"])\n",
    "pd.DataFrame(rouge_dict, index=[f\"{model_ckpt}\"])"
   ]
  },
  {
   "cell_type": "code",
   "execution_count": null,
   "id": "f2881e29",
   "metadata": {},
   "outputs": [],
   "source": [
    "summaries = {}\n",
    "sample_text = dataset[\"test\"][0][\"plain_text\"]\n",
    "\n",
    "pipe = pipeline(\"summarization\", model =f\"content/{model_ckpt}\", tokenizer=f\"{model_ckpt}\", device=0)\n",
    "pipe_out = pipe(sample_text)\n",
    "summaries[\"Result\"] = \"\\n\".join(sent_tokenize(pipe_out[0][\"summary_text\"]))\n",
    "print(summaries)"
   ]
  },
  {
   "cell_type": "markdown",
   "id": "cadfc301",
   "metadata": {},
   "source": [
    "## Not fine tuned"
   ]
  },
  {
   "cell_type": "code",
   "execution_count": null,
   "id": "cc417228",
   "metadata": {},
   "outputs": [],
   "source": [
    "score_rouge = evaluate_summaries(\n",
    "    dataset[\"test\"], rouge_metric, model_ckpt, tokenizer,\n",
    "    batch_size=1, column_text=\"plain_text\", column_summary=\"summary\")\n",
    "rouge_dict = dict((rn, score_rouge[rn].mid.fmeasure) for rn in rouge_names)\n",
    "pd.DataFrame(rouge_dict, index=[f\"{model_ckpt}\"])"
   ]
  },
  {
   "cell_type": "code",
   "execution_count": null,
   "id": "f6079c34",
   "metadata": {},
   "outputs": [],
   "source": [
    "score_bleu = evaluate_summaries(\n",
    "    dataset[\"test\"], bleu_metric, model_ckpt, tokenizer,\n",
    "    batch_size=1, column_text=\"plain_text\", column_summary=\"summary\")\n",
    "rouge_dict = dict((rn, score_bleu[rn].mid.fmeasure) for rn in [\"bleu\"])\n",
    "pd.DataFrame(rouge_dict, index=[f\"{model_ckpt}\"])"
   ]
  },
  {
   "cell_type": "code",
   "execution_count": null,
   "id": "f231e0da",
   "metadata": {},
   "outputs": [],
   "source": [
    "summaries = {}\n",
    "sample_text = dataset[\"test\"][0][\"plain_text\"]\n",
    "\n",
    "pipe = pipeline(\"summarization\", model =f\"{model_ckpt}\", tokenizer=f\"{model_ckpt}\", device=0)\n",
    "pipe_out = pipe(sample_text)\n",
    "summaries[\"Result\"] = \"\\n\".join(sent_tokenize(pipe_out[0][\"summary_text\"]))\n",
    "print(summaries)"
   ]
  }
 ],
 "metadata": {
  "kernelspec": {
   "display_name": "Python 3 (ipykernel)",
   "language": "python",
   "name": "python3"
  },
  "language_info": {
   "codemirror_mode": {
    "name": "ipython",
    "version": 3
   },
   "file_extension": ".py",
   "mimetype": "text/x-python",
   "name": "python",
   "nbconvert_exporter": "python",
   "pygments_lexer": "ipython3",
   "version": "3.10.0"
  }
 },
 "nbformat": 4,
 "nbformat_minor": 5
}
