{
 "cells": [
  {
   "cell_type": "code",
   "execution_count": null,
   "id": "1933e8a7",
   "metadata": {},
   "outputs": [
    {
     "data": {
      "application/vnd.jupyter.widget-view+json": {
       "model_id": "fb642c45be8f4b5ebe5a5f1e959fc787",
       "version_major": 2,
       "version_minor": 0
      },
      "text/plain": [
       "Downloading config.json:   0%|          | 0.00/1.55k [00:00<?, ?B/s]"
      ]
     },
     "metadata": {},
     "output_type": "display_data"
    },
    {
     "data": {
      "application/vnd.jupyter.widget-view+json": {
       "model_id": "be34cf8dfe704504ac10a63419b095e9",
       "version_major": 2,
       "version_minor": 0
      },
      "text/plain": [
       "Downloading vocab.json:   0%|          | 0.00/878k [00:00<?, ?B/s]"
      ]
     },
     "metadata": {},
     "output_type": "display_data"
    },
    {
     "data": {
      "application/vnd.jupyter.widget-view+json": {
       "model_id": "90b8527c09b646c4b23ae60929517bf0",
       "version_major": 2,
       "version_minor": 0
      },
      "text/plain": [
       "Downloading merges.txt:   0%|          | 0.00/446k [00:00<?, ?B/s]"
      ]
     },
     "metadata": {},
     "output_type": "display_data"
    },
    {
     "data": {
      "application/vnd.jupyter.widget-view+json": {
       "model_id": "81788f09d5ee4b3394fbad448fe95cbd",
       "version_major": 2,
       "version_minor": 0
      },
      "text/plain": [
       "Downloading tokenizer.json:   0%|          | 0.00/1.29M [00:00<?, ?B/s]"
      ]
     },
     "metadata": {},
     "output_type": "display_data"
    },
    {
     "data": {
      "application/vnd.jupyter.widget-view+json": {
       "model_id": "d4c38e8b8c81469e8831dc9e8f54d578",
       "version_major": 2,
       "version_minor": 0
      },
      "text/plain": [
       "Downloading pytorch_model.bin:   0%|          | 0.00/1.51G [00:00<?, ?B/s]"
      ]
     },
     "metadata": {},
     "output_type": "display_data"
    }
   ],
   "source": [
    "from transformers import AutoConfig, AutoTokenizer, AutoModel\n",
    "from summarizer import Summarizer\n",
    "\n",
    "#model_name = 'nlpaueb/legal-bert-base-uncased'\n",
    "model_name = 'facebook/bart-large-cnn'\n",
    "#download the model from HuggingFace\n",
    "custom_config = AutoConfig.from_pretrained(model_name)\n",
    "custom_config.output_hidden_states=True\n",
    "custom_tokenizer = AutoTokenizer.from_pretrained(model_name)\n",
    "custom_model = AutoModel.from_pretrained(model_name, config=custom_config)\n",
    "bert_legal_model = Summarizer(custom_model=custom_model, custom_tokenizer=custom_tokenizer)\n",
    "print('Using model {}\\n'.format(model_name))"
   ]
  },
  {
   "cell_type": "code",
   "execution_count": 10,
   "id": "e1adafa3",
   "metadata": {},
   "outputs": [],
   "source": [
    "#from datasets import load_dataset\n",
    "#spam = load_dataset(\"albertvillanova/legal_contracts\")\n"
   ]
  },
  {
   "cell_type": "code",
   "execution_count": 11,
   "id": "55d4735d",
   "metadata": {},
   "outputs": [],
   "source": [
    "bert_legal_model = Summarizer(custom_model=custom_model, custom_tokenizer=custom_tokenizer)"
   ]
  },
  {
   "cell_type": "code",
   "execution_count": 12,
   "id": "a0080815",
   "metadata": {},
   "outputs": [],
   "source": [
    "text = \"2.4  TERMINATION OTHER THAN FOR CAUSE.  Notwithstanding anything else in this Agreement, the Employer may effect a Termination Other Than For Cause at any time upon giving thirty (30) days written notice to the Employee of such termination. Upon any Termination Other Than For Cause, the Employee shall immediately be paid all accrued salary, bonus compensation to the extent earned, vested deferred compensation, if any (other than pension plan or profit sharing plan benefits which will be paid in accordance with the applicable plan), any benefits under any plans of Employer or Avocent in which the Employee is a participant to the full extent of the Employee's rights under such plans, accrued vacation pay and any appropriate business expenses incurred by the Employee in connection with his duties hereunder, all to the date of termination, and all severance compensation provided in Section 4.2, but no other compensation or reimbursement of any kind.\""
   ]
  },
  {
   "cell_type": "code",
   "execution_count": 13,
   "id": "25db7c8a",
   "metadata": {},
   "outputs": [
    {
     "name": "stdout",
     "output_type": "stream",
     "text": [
      "Summary:\n",
      "2.4  TERMINATION OTHER THAN FOR CAUSE. Notwithstanding anything else in this Agreement, the Employer may effect a Termination Other Than For Cause at any time upon giving thirty (30) days written notice to the Employee of such termination.\n"
     ]
    },
    {
     "name": "stderr",
     "output_type": "stream",
     "text": [
      "C:\\Users\\franc\\miniconda3\\lib\\site-packages\\sklearn\\cluster\\_kmeans.py:1332: UserWarning: KMeans is known to have a memory leak on Windows with MKL, when there are less chunks than available threads. You can avoid it by setting the environment variable OMP_NUM_THREADS=1.\n",
      "  warnings.warn(\n"
     ]
    }
   ],
   "source": [
    "summary = bert_legal_model(text,  min_length = 8, ratio = 0.05)\n",
    "print(\"Summary:\")\n",
    "print(summary)"
   ]
  },
  {
   "cell_type": "code",
   "execution_count": null,
   "id": "bdeb7c8d",
   "metadata": {},
   "outputs": [],
   "source": []
  }
 ],
 "metadata": {
  "kernelspec": {
   "display_name": "Python 3 (ipykernel)",
   "language": "python",
   "name": "python3"
  },
  "language_info": {
   "codemirror_mode": {
    "name": "ipython",
    "version": 3
   },
   "file_extension": ".py",
   "mimetype": "text/x-python",
   "name": "python",
   "nbconvert_exporter": "python",
   "pygments_lexer": "ipython3",
   "version": "3.9.12"
  }
 },
 "nbformat": 4,
 "nbformat_minor": 5
}
